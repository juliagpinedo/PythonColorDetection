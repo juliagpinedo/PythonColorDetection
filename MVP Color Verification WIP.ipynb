{
 "cells": [
  {
   "cell_type": "markdown",
   "id": "6ee3e4a8-d15f-4587-9a6b-5d62396dfd71",
   "metadata": {},
   "source": [
    "# MVP Color Verification in Python (WIP)"
   ]
  },
  {
   "cell_type": "markdown",
   "id": "83621e57-936d-4616-adec-ef3e2aec29cf",
   "metadata": {},
   "source": [
    "This Jupyter Notebook is a work in progress for the expected implementation of the Color Verification in Python."
   ]
  },
  {
   "cell_type": "markdown",
   "id": "74620125-6c69-4cf7-8693-a792e6a52eba",
   "metadata": {},
   "source": [
    "## Global Libraries"
   ]
  },
  {
   "cell_type": "code",
   "execution_count": 1,
   "id": "4c6bf055-3cce-4948-bd16-9a3473a2d5c4",
   "metadata": {},
   "outputs": [],
   "source": [
    "from colormath.color_objects import sRGBColor, LabColor\n",
    "from colormath.color_conversions import convert_color\n",
    "from colormath.color_diff import delta_e_cie2000\n",
    "import cv2\n",
    "import matplotlib.pyplot as plt\n",
    "import numpy as np\n",
    "from PIL import Image\n",
    "from skimage.color import deltaE_ciede2000, rgb2lab\n",
    "from sklearn.cluster import KMeans\n",
    "import time\n",
    "from typing import Tuple, Dict, Union"
   ]
  },
  {
   "cell_type": "markdown",
   "id": "006ff7da-2835-45bb-8714-a9535b428c48",
   "metadata": {},
   "source": [
    "### CV2 vs PIL performance"
   ]
  },
  {
   "cell_type": "code",
   "execution_count": 2,
   "id": "91d3d331-6474-43ac-9f92-fab8a5a100b4",
   "metadata": {},
   "outputs": [
    {
     "name": "stdout",
     "output_type": "stream",
     "text": [
      "OpenCV load time: 0.019745588302612305 s\n"
     ]
    }
   ],
   "source": [
    "# OpenCV\n",
    "start = time.time()\n",
    "img_cv2 = cv2.imread('healthappscreenshot.png')\n",
    "end = time.time()\n",
    "print(f'OpenCV load time: {end - start} s')"
   ]
  },
  {
   "cell_type": "code",
   "execution_count": 3,
   "id": "ccc974e6-0468-42db-825f-1e404e300756",
   "metadata": {},
   "outputs": [
    {
     "name": "stdout",
     "output_type": "stream",
     "text": [
      "Pillow load time: 0.04184889793395996 s\n"
     ]
    }
   ],
   "source": [
    "# Pillow\n",
    "start = time.time()\n",
    "img_pil = Image.open('healthappscreenshot.png')\n",
    "img_np = np.array(img_pil)\n",
    "end = time.time()\n",
    "print(f'Pillow load time: {end - start} s')"
   ]
  },
  {
   "cell_type": "markdown",
   "id": "9773c61e-b75c-40cb-8d56-9676feadf98d",
   "metadata": {},
   "source": [
    "CV2 is faster in terms of image loading, so we are going to stick with this tool in order to read the images and convert them to RGB."
   ]
  },
  {
   "cell_type": "markdown",
   "id": "816abbcf-6579-4ac5-a1e1-a76bdee606d7",
   "metadata": {},
   "source": [
    "# Simple flow according to MVP:"
   ]
  },
  {
   "cell_type": "markdown",
   "id": "4a1dd592-9a5d-4a2e-845e-6c2c034e3cf8",
   "metadata": {},
   "source": [
    "## 1. Screenshot is taken and saved\n",
    "\n",
    "We assume this step was already done."
   ]
  },
  {
   "cell_type": "markdown",
   "id": "8e5fc605-55f0-4e1e-8e54-d9ff3601eb5b",
   "metadata": {},
   "source": [
    "## 2. Image preprocessing"
   ]
  },
  {
   "cell_type": "code",
   "execution_count": 4,
   "id": "66fe3d3a-8cb8-4185-a233-4148ef1d7051",
   "metadata": {},
   "outputs": [],
   "source": [
    "# Loading image with CV2 and converting to RGB\n",
    "screenshot = cv2.imread('healthappscreenshot.png')\n",
    "screenshot_rgb = cv2.cvtColor(screenshot, cv2.COLOR_BGR2RGB)"
   ]
  },
  {
   "cell_type": "code",
   "execution_count": 5,
   "id": "8968ecba-6418-498f-89dd-7e3bc372ce45",
   "metadata": {},
   "outputs": [
    {
     "data": {
      "image/png": "[encoded data removed]",
      "text/plain": [
       "<Figure size 600x200 with 1 Axes>"
      ]
     },
     "metadata": {},
     "output_type": "display_data"
    }
   ],
   "source": [
    "# ROI extraction\n",
    "\n",
    "def extract_roi(image_rgb, x, y, width, height):\n",
    "    \"\"\"\n",
    "    Extract the ROI (Region of Interest) of the image using pixel \n",
    "    coordinates from Abstract (375x812), auto-converted to the actual \n",
    "    resolution of the screenshot\n",
    "\n",
    "    Args:\n",
    "        image_rgb (np.ndarray): Screenshot in RGB format\n",
    "        x (float): X position of element from Abstract (in px)\n",
    "        y (float): Y position of element from Abstract (in px)\n",
    "        width (float): Width of element in px\n",
    "        height (float): Height of element in px\n",
    "\n",
    "    Returns:\n",
    "        np.ndarray: Cropped image region (RGB)\n",
    "    \"\"\"\n",
    "    h, w, _ = image_rgb.shape\n",
    "    x1 = int((x / 375) * w)\n",
    "    x2 = int(((x + width) / 375) * w)\n",
    "    y1 = int((y / 812) * h)\n",
    "    y2 = int(((y + height) / 812) * h)\n",
    "    return image_rgb[y1:y2, x1:x2]\n",
    "\n",
    "extracted_roi = extract_roi(image_rgb=screenshot_rgb, \n",
    "                            x=5, y=710, width=1500, height=80)\n",
    "\n",
    "plt.figure(figsize=(6, 2))\n",
    "plt.imshow(extracted_roi)\n",
    "plt.axis('off')\n",
    "plt.show()"
   ]
  },
  {
   "cell_type": "markdown",
   "id": "35bbd45f-da53-446c-9bb0-2c789fa05182",
   "metadata": {},
   "source": [
    "# 3. Color Detection"
   ]
  },
  {
   "cell_type": "code",
   "execution_count": 6,
   "id": "aa06cb4a-1e12-4226-b1e8-8c933948f5ac",
   "metadata": {},
   "outputs": [],
   "source": [
    "def rgb_to_hex(rgb):\n",
    "    \"\"\"\n",
    "    Convert an RGB color tuple or array to a hexadecimal color string\n",
    "\n",
    "    Args:\n",
    "        rgb (Union[np.ndarray, Tuple[float, float, float]]): The RGB color \n",
    "                                                             as a NumPy array or tuple\n",
    "\n",
    "    Returns:\n",
    "        str: Hexadecimal representation of the color\n",
    "    \"\"\"\n",
    "    return '#{:02x}{:02x}{:02x}'.format(int(rgb[0]), int(rgb[1]), int(rgb[2]))\n",
    "\n",
    "def hex_to_rgb(hex_val):\n",
    "    \"\"\"\n",
    "    Convert a hexadecimal color string to an RGB tuple\n",
    "\n",
    "    Args:\n",
    "        hex_val (str): The hex color string (e.g., '#35c759')\n",
    "\n",
    "    Returns:\n",
    "        Tuple[int, int, int]: Corresponding RGB values in a tuple\n",
    "    \"\"\"\n",
    "    hex_val = hex_val.lstrip('#')\n",
    "    return tuple(int(hex_val[i:i+2], 16) for i in (0, 2, 4))\n",
    "\n",
    "def calculate_delta_e(rgb1, rgb2):\n",
    "    \"\"\"\n",
    "    Calculate Delta-E CIEDE2000 between two RGB colors using skimage \n",
    "    \n",
    "    Args:\n",
    "        rgb1, rgb2 (array-like): RGB values [0–255] or np arrays\n",
    "\n",
    "    Returns:\n",
    "        float: Delta-E distance\n",
    "    \"\"\"\n",
    "    rgb1_arr = np.array([[rgb1]], dtype=np.uint8) / 255.0\n",
    "    rgb2_arr = np.array([[rgb2]], dtype=np.uint8) / 255.0\n",
    "\n",
    "    lab1 = rgb2lab(rgb1_arr)\n",
    "    lab2 = rgb2lab(rgb2_arr)\n",
    "\n",
    "    delta = deltaE_ciede2000(lab1, lab2)\n",
    "    return float(delta[0][0])\n",
    "\n",
    "def check_button_color_dominant(\n",
    "    cropped_rgb,\n",
    "    expected_hex,\n",
    "    mode='dark',\n",
    "    method='delta-e',\n",
    "    threshold=2.0,\n",
    "    n_clusters=3\n",
    "):\n",
    "    \"\"\"\n",
    "    Detect the dominant color in a cropped image and compare it to the expected HEX.\n",
    "\n",
    "    Args:\n",
    "        cropped_rgb (np.ndarray): The cropped button image in RGB format.\n",
    "        expected_hex (str): The expected color in hexadecimal format.\n",
    "        mode (str): 'light' or 'dark' - influences background exclusion logic.\n",
    "        method (str): 'euclidean' or 'delta-e' for comparison.\n",
    "        threshold (float): Tolerance threshold for matching.\n",
    "        n_clusters (int): Number of clusters for KMeans.\n",
    "\n",
    "    Returns:\n",
    "        dict: Contains detected color info and match result.\n",
    "    \"\"\"\n",
    "    expected_rgb = np.array(hex_to_rgb(expected_hex))\n",
    "    pixels = cropped_rgb.reshape(-1, 3)\n",
    "\n",
    "    # Define background filter thresholds based on mode\n",
    "    if mode == 'light':\n",
    "        background_color = np.array([255, 255, 255])\n",
    "    else:  # dark mode\n",
    "        background_color = np.array([28, 28, 30])  # #1c1c1e\n",
    "\n",
    "    # Filter: remove pixels too close to background\n",
    "    mask = np.linalg.norm(pixels - background_color, axis=1) > 15\n",
    "    filtered_pixels = pixels[mask]\n",
    "\n",
    "    if len(filtered_pixels) == 0:\n",
    "        return {\n",
    "            'Dominant RGB': background_color,\n",
    "            'Detected HEX': rgb_to_hex(background_color),\n",
    "            'Expected HEX': expected_hex,\n",
    "            'Distance to Expected': float('inf'),\n",
    "            'Distance Method': method,\n",
    "            'Mode': mode,\n",
    "            'Match Result': 'No valid foreground pixels'\n",
    "        }\n",
    "\n",
    "    # Apply KMeans clustering\n",
    "    kmeans = KMeans(n_clusters=n_clusters, n_init=10)\n",
    "    kmeans.fit(filtered_pixels)\n",
    "    counts = np.bincount(kmeans.labels_)\n",
    "    dominant_rgb = kmeans.cluster_centers_[np.argmax(counts)]\n",
    "\n",
    "    # Compare with expected using selected method\n",
    "    if method == 'delta-e':\n",
    "        distance = calculate_delta_e(dominant_rgb, expected_rgb)\n",
    "        match = 'Matched' if distance < threshold else 'Not matched'\n",
    "    else:\n",
    "        distance = np.linalg.norm(dominant_rgb - expected_rgb)\n",
    "        match = 'Matched' if distance < threshold else 'Not matched'\n",
    "\n",
    "    return {\n",
    "        'Dominant RGB': dominant_rgb.astype(int),\n",
    "        'Detected HEX': rgb_to_hex(dominant_rgb),\n",
    "        'Expected HEX': expected_hex,\n",
    "        'Distance to Expected': round(float(distance), 2),\n",
    "        'Distance Method': method,\n",
    "        'Mode': mode,\n",
    "        'Match Result': match\n",
    "    }"
   ]
  },
  {
   "cell_type": "code",
   "execution_count": 7,
   "id": "7d99df3c-3749-46da-8c0b-4941066c046e",
   "metadata": {},
   "outputs": [
    {
     "name": "stdout",
     "output_type": "stream",
     "text": [
      "{'Dominant RGB': array([ 10, 132, 254]), 'Detected HEX': '#0a84fe', 'Expected HEX': '#0a84ff', 'Distance to Expected': 0.13, 'Distance Method': 'delta-e', 'Mode': 'dark', 'Match Result': 'Matched'}\n"
     ]
    }
   ],
   "source": [
    "result_delta_e = check_button_color_dominant(\n",
    "    cropped_rgb=extracted_roi,\n",
    "    expected_hex=\"#0a84ff\",  # iOS Blue (Dark Mode)\n",
    "    mode=\"dark\",\n",
    "    method=\"delta-e\",\n",
    "    threshold=2.0\n",
    ")\n",
    "\n",
    "print(result_delta_e)"
   ]
  },
  {
   "cell_type": "code",
   "execution_count": 8,
   "id": "86ad8756-2221-44e3-8054-6c55c86246b8",
   "metadata": {},
   "outputs": [
    {
     "name": "stdout",
     "output_type": "stream",
     "text": [
      "{'Dominant RGB': array([ 10, 132, 254]), 'Detected HEX': '#0a84fe', 'Expected HEX': '#0a84ff', 'Distance to Expected': 0.12, 'Distance Method': 'euclidean', 'Mode': 'dark', 'Match Result': 'Matched'}\n"
     ]
    }
   ],
   "source": [
    "result_euclidean = check_button_color_dominant(\n",
    "    cropped_rgb=extracted_roi,\n",
    "    expected_hex=\"#0a84ff\",  # iOS Blue (Dark Mode)\n",
    "    mode=\"dark\",\n",
    "    method=\"euclidean\",\n",
    "    threshold=2.0\n",
    ")\n",
    "\n",
    "print(result_euclidean)"
   ]
  }
 ],
 "metadata": {
  "kernelspec": {
   "display_name": "Python 3 (ipykernel)",
   "language": "python",
   "name": "python3"
  },
  "language_info": {
   "codemirror_mode": {
    "name": "ipython",
    "version": 3
   },
   "file_extension": ".py",
   "mimetype": "text/x-python",
   "name": "python",
   "nbconvert_exporter": "python",
   "pygments_lexer": "ipython3",
   "version": "3.12.1"
  }
 },
 "nbformat": 4,
 "nbformat_minor": 5
}
